{
 "cells": [
  {
   "cell_type": "code",
   "execution_count": 17,
   "id": "938d4831-13f0-458b-904e-eab0ef89bd38",
   "metadata": {},
   "outputs": [],
   "source": [
    "import numpy as np\n",
    "from math import *\n",
    "\n",
    "array1 = np.random.randint(10, size=(2,2), dtype=\"int64\")\n",
    "array2 = np.random.randint(10, size=(2,2), dtype=\"int64\")"
   ]
  },
  {
   "cell_type": "markdown",
   "id": "af5fe8cf-4f46-412a-a8c5-d521c3ff3f14",
   "metadata": {},
   "source": [
    "## Soru-1"
   ]
  },
  {
   "cell_type": "code",
   "execution_count": 44,
   "id": "85038f01-bbb8-4ad0-9336-781fb18fc33d",
   "metadata": {},
   "outputs": [],
   "source": [
    "def Split(array):\n",
    "    row = floor(array.shape[0]/2)\n",
    "    col = floor(array.shape[1]/2)\n",
    "\n",
    "    return [ array[:row,:col], array[:row,col:], array[row:,:col], array[row:,col:] ]\n",
    "\n",
    "\n",
    "def Strassen(x,y):\n",
    "    if len(x)==1:\n",
    "        return x*y\n",
    "\n",
    "    a,b,c,d = Split(x)\n",
    "    e,f,g,h = Split(y)\n",
    "\n",
    "    p1 = Strassen(a, f - h) \n",
    "    p2 = Strassen(a + b, h)       \n",
    "    p3 = Strassen(c + d, e)       \n",
    "    p4 = Strassen(d, g - e)       \n",
    "    p5 = Strassen(a + d, e + h)       \n",
    "    p6 = Strassen(b - d, g + h) \n",
    "    p7 = Strassen(a - c, e + f) \n",
    "\n",
    "    ma = p5 + p4 - p2 + p6 \n",
    "    mb = p1 + p2          \n",
    "    mc = p3 + p4           \n",
    "    md = p1 + p5 - p3 - p7\n",
    "\n",
    "    return np.concatenate( [ np.concatenate([np.array(ma), np.array(mb)], axis=1),np.concatenate([np.array(mc), np.array(md)], axis=1) ] )"
   ]
  },
  {
   "cell_type": "code",
   "execution_count": 45,
   "id": "c4f2c47e-e2a4-4455-912c-48a61de00b8d",
   "metadata": {},
   "outputs": [
    {
     "data": {
      "text/plain": [
       "array([[33, 56],\n",
       "       [55, 87]], dtype=int64)"
      ]
     },
     "execution_count": 45,
     "metadata": {},
     "output_type": "execute_result"
    }
   ],
   "source": [
    "Strassen(array1,array2)"
   ]
  },
  {
   "cell_type": "code",
   "execution_count": null,
   "id": "fb75f3e6-5195-4722-a7da-25ecf6f4bff7",
   "metadata": {},
   "outputs": [],
   "source": []
  },
  {
   "cell_type": "code",
   "execution_count": null,
   "id": "91683be8-047d-440b-a4eb-e2122eefa361",
   "metadata": {},
   "outputs": [],
   "source": []
  },
  {
   "cell_type": "code",
   "execution_count": null,
   "id": "8b3adfe7-2e96-4002-bc2b-28f422b464cf",
   "metadata": {},
   "outputs": [],
   "source": []
  }
 ],
 "metadata": {
  "kernelspec": {
   "display_name": "Python 3",
   "language": "python",
   "name": "python3"
  },
  "language_info": {
   "codemirror_mode": {
    "name": "ipython",
    "version": 3
   },
   "file_extension": ".py",
   "mimetype": "text/x-python",
   "name": "python",
   "nbconvert_exporter": "python",
   "pygments_lexer": "ipython3",
   "version": "3.8.8"
  }
 },
 "nbformat": 4,
 "nbformat_minor": 5
}
